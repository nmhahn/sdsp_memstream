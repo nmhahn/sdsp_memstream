{
 "cells": [
  {
   "cell_type": "markdown",
   "metadata": {},
   "source": [
    "# Libraries"
   ]
  },
  {
   "cell_type": "code",
   "execution_count": 1,
   "metadata": {},
   "outputs": [],
   "source": [
    "# Libraries\n",
    "import numpy as np\n",
    "import pandas as pd\n",
    "from tqdm import tqdm\n",
    "\n",
    "import torch\n",
    "\n",
    "import scipy.io\n",
    "\n",
    "from sklearn.model_selection import train_test_split\n",
    "\n",
    "SEED = 0\n",
    "\n",
    "torch.manual_seed(SEED)\n",
    "np.random.seed(SEED)"
   ]
  },
  {
   "cell_type": "markdown",
   "metadata": {},
   "source": [
    "# Datasets"
   ]
  },
  {
   "cell_type": "code",
   "execution_count": 2,
   "metadata": {},
   "outputs": [],
   "source": [
    "def get_data(dataset):\n",
    "    if dataset == 'KDD99':\n",
    "        df = pd.read_table('./data/kdd.txt', delimiter = ',', header = None)\n",
    "        df['y'] = np.loadtxt('./data/kddlabel.txt', delimiter=',')\n",
    "        df['y'] = 1 - df['y']\n",
    "    elif dataset == 'NSL':\n",
    "        df = pd.read_table('./data/nsl.txt', delimiter = ',', header = None)\n",
    "        df['y'] = np.loadtxt('./data/nsllabel.txt', delimiter=',')\n",
    "    elif dataset == 'UNSW':\n",
    "        df = pd.read_table('./data/unsw.txt', delimiter = ',', header = None)\n",
    "        df['y'] = np.loadtxt('./data/unswlabel.txt', delimiter=',')\n",
    "    elif dataset == 'DoS':\n",
    "        df = pd.read_table('./data/dos.txt', delimiter = ',', header = None)\n",
    "        df['y'] = np.loadtxt('./data/doslabel.txt', delimiter=',')\n",
    "    elif dataset == 'Syn':\n",
    "        df = pd.read_table('./data/syn.txt', delimiter = ',', header = None)\n",
    "        df['y'] = np.loadtxt('./data/synlabel.txt', delimiter=',')\n",
    "    else:\n",
    "        data = scipy.io.loadmat(f\"./data/{dataset}.mat\")\n",
    "        df = pd.DataFrame(data['X'])\n",
    "        df['y'] = data['y']\n",
    "\n",
    "    return df"
   ]
  },
  {
   "cell_type": "code",
   "execution_count": 3,
   "metadata": {},
   "outputs": [],
   "source": [
    "dataset = 'cover' # ['KDD99','NSL','UNSW','DoS','Syn','ionosphere','cardio','satellite','satimage-2','mammography','pima','cover']\n",
    "sample_size = 10000\n",
    "\n",
    "df = get_data(dataset)\n",
    "if len(df) <= sample_size:\n",
    "    random_sample = df\n",
    "else:\n",
    "    _, random_sample = train_test_split(df, test_size=sample_size/len(df), stratify=df['y'], random_state=SEED)"
   ]
  },
  {
   "cell_type": "code",
   "execution_count": 4,
   "metadata": {},
   "outputs": [
    {
     "name": "stdout",
     "output_type": "stream",
     "text": [
      "(286048, 11)\n",
      "\n",
      "y\n",
      "0    0.990397\n",
      "1    0.009603\n",
      "Name: count, dtype: float64\n"
     ]
    }
   ],
   "source": [
    "print(df.shape)\n",
    "print()\n",
    "print(df['y'].value_counts()/len(df))"
   ]
  },
  {
   "cell_type": "code",
   "execution_count": 5,
   "metadata": {},
   "outputs": [
    {
     "name": "stdout",
     "output_type": "stream",
     "text": [
      "(10000, 11)\n",
      "\n",
      "y\n",
      "0    0.9904\n",
      "1    0.0096\n",
      "Name: count, dtype: float64\n"
     ]
    }
   ],
   "source": [
    "print(random_sample.shape)\n",
    "print()\n",
    "print(random_sample['y'].value_counts()/len(random_sample))"
   ]
  },
  {
   "cell_type": "code",
   "execution_count": 6,
   "metadata": {},
   "outputs": [],
   "source": [
    "def preprocess(df):\n",
    "    X = df.drop(columns=['y']).to_numpy().reshape(-1,df.shape[1]-1)\n",
    "    y = df['y'].to_numpy()\n",
    "    return X, y\n",
    "\n",
    "X_all, y_all = preprocess(random_sample) "
   ]
  },
  {
   "cell_type": "markdown",
   "metadata": {},
   "source": [
    "# Models"
   ]
  },
  {
   "cell_type": "code",
   "execution_count": 7,
   "metadata": {},
   "outputs": [],
   "source": [
    "rslt = []"
   ]
  },
  {
   "cell_type": "markdown",
   "metadata": {},
   "source": [
    "## MemStream"
   ]
  },
  {
   "cell_type": "code",
   "execution_count": 8,
   "metadata": {},
   "outputs": [],
   "source": [
    "import torch.nn as nn\n",
    "import numpy as np\n",
    "from torch.utils.data import DataLoader\n",
    "from sklearn.metrics import roc_auc_score\n",
    "from torch.autograd import Variable"
   ]
  },
  {
   "cell_type": "code",
   "execution_count": 9,
   "metadata": {},
   "outputs": [],
   "source": [
    "device = torch.device('cpu')"
   ]
  },
  {
   "cell_type": "code",
   "execution_count": 10,
   "metadata": {},
   "outputs": [],
   "source": [
    "# from https://github.com/Stream-AD/MemStream?tab=readme-ov-file\n",
    "# file: memstream.py\n",
    "class MemStream(nn.Module):\n",
    "    def __init__(self, in_dim, params):\n",
    "        super(MemStream, self).__init__()\n",
    "        self.params = params\n",
    "        self.in_dim = in_dim\n",
    "        self.out_dim = in_dim*2\n",
    "        self.memory_len = params['memory_len']\n",
    "        self.max_thres = torch.tensor(params['beta']).to(device)\n",
    "        self.memory = torch.randn(self.memory_len, self.out_dim).to(device)\n",
    "        self.mem_data = torch.randn(self.memory_len, self.in_dim).to(device)\n",
    "        self.memory.requires_grad = False\n",
    "        self.mem_data.requires_grad = False\n",
    "        self.batch_size = params['memory_len']\n",
    "        self.num_mem_update = 0\n",
    "        self.encoder = nn.Sequential(\n",
    "            nn.Linear(self.in_dim, self.out_dim),\n",
    "            nn.Tanh(),\n",
    "        ).to(device)\n",
    "        self.decoder = nn.Sequential(\n",
    "            nn.Linear(self.out_dim, self.in_dim)\n",
    "        ).to(device)\n",
    "        self.clock = 0\n",
    "        self.last_update = -1\n",
    "        self.optimizer = torch.optim.Adam(self.parameters(), lr=params['lr'])\n",
    "        self.loss_fn = nn.MSELoss()\n",
    "        self.count = 0\n",
    "\n",
    "\n",
    "    def train_autoencoder(self, data, epochs):\n",
    "        self.mean, self.std = self.mem_data.mean(0), self.mem_data.std(0)\n",
    "        new = (data - self.mean) / self.std\n",
    "        new[:, self.std == 0] = 0\n",
    "        new = Variable(new)\n",
    "        for epoch in range(epochs):\n",
    "            self.optimizer.zero_grad()\n",
    "            output = self.decoder(self.encoder(new + 0.001*torch.randn_like(new).to(device)))\n",
    "            loss = self.loss_fn(output, new)\n",
    "            loss.backward()\n",
    "            self.optimizer.step()\n",
    "\n",
    "\n",
    "    def update_memory(self, output_loss, encoder_output, data):\n",
    "        if output_loss <= self.max_thres:\n",
    "            least_used_pos = self.count%self.memory_len\n",
    "            self.memory[least_used_pos] = encoder_output\n",
    "            self.mem_data[least_used_pos] = data\n",
    "            self.mean, self.std = self.mem_data.mean(0), self.mem_data.std(0)\n",
    "            self.count += 1\n",
    "            return 1\n",
    "        return 0\n",
    "\n",
    "    def initialize_memory(self, x):\n",
    "        mean, std = model.mem_data.mean(0), model.mem_data.std(0)\n",
    "        new = (x - mean) / std\n",
    "        new[:, std == 0] = 0\n",
    "        self.memory = self.encoder(new)\n",
    "        self.memory.requires_grad = False\n",
    "        self.mem_data = x\n",
    "\n",
    "    def forward(self, x):\n",
    "        new = (x - self.mean) / self.std\n",
    "        new[:, self.std == 0] = 0\n",
    "        encoder_output = self.encoder(new)\n",
    "        loss_values = torch.norm(self.memory - encoder_output, dim=1, p=1).min()\n",
    "        self.update_memory(loss_values, encoder_output, x)\n",
    "        return loss_values"
   ]
  },
  {
   "cell_type": "code",
   "execution_count": 11,
   "metadata": {},
   "outputs": [],
   "source": [
    "epochs = 5000\n",
    "lr = 1e-2\n",
    "\n",
    "if dataset == 'KDD99':\n",
    "    beta = 1.0\n",
    "    memlen = 256\n",
    "elif dataset == 'NSL':\n",
    "    beta = 0.1\n",
    "    memlen = 2048\n",
    "elif dataset == 'UNSW':\n",
    "    beta = 0.1\n",
    "    memlen = 2048\n",
    "elif dataset == 'DoS':\n",
    "    beta = 0.1\n",
    "    memlen = 2048\n",
    "elif dataset == 'Syn':\n",
    "    beta = 1.0\n",
    "    memlen = 16\n",
    "elif dataset == 'ionosphere':\n",
    "    beta = 0.001\n",
    "    memlen = 4\n",
    "elif dataset == 'cardio':\n",
    "    beta = 1.0\n",
    "    memlen = 64\n",
    "elif dataset == 'satellite':\n",
    "    beta = 0.01\n",
    "    memlen = 32\n",
    "elif dataset == 'satimage-2':\n",
    "    beta = 10.0\n",
    "    memlen = 256\n",
    "elif dataset == 'mammography':\n",
    "    beta = 0.1\n",
    "    memlen = 128\n",
    "elif dataset == 'pima':\n",
    "    beta = 0.001\n",
    "    memlen = 64\n",
    "elif dataset == 'cover':\n",
    "    beta = 0.0001\n",
    "    memlen = 2048\n",
    "# else:\n",
    "#     beta = 1.0\n",
    "#     memlen = 16\n",
    "\n",
    "params = {\n",
    "    'beta': beta\n",
    "    ,'memory_len': memlen # N\n",
    "    ,'batch_size': 1,\n",
    "    'lr': lr\n",
    "}"
   ]
  },
  {
   "cell_type": "code",
   "execution_count": 12,
   "metadata": {},
   "outputs": [],
   "source": [
    "X = torch.FloatTensor(X_all)\n",
    "y = y_all\n",
    "\n",
    "\n",
    "model = MemStream(X[0].shape[0], params).to(device)\n",
    "model.max_thres=model.max_thres.float()\n",
    "batch_size = params['batch_size']\n",
    "\n",
    "\n",
    "data_loader = DataLoader(X, batch_size=batch_size)\n",
    "init_data = X[y == 0][:memlen].to(device)\n",
    "model.mem_data = init_data\n",
    "torch.set_grad_enabled(True)\n",
    "model.train_autoencoder(Variable(init_data).to(device), epochs=epochs)\n",
    "torch.set_grad_enabled(False)\n",
    "model.initialize_memory(Variable(init_data[:memlen]))\n",
    "\n",
    "err = []\n",
    "for data in data_loader:\n",
    "    output = model(data.to(device))\n",
    "    err.append(output)"
   ]
  },
  {
   "cell_type": "code",
   "execution_count": 13,
   "metadata": {},
   "outputs": [],
   "source": [
    "scores = np.array([i.cpu() for i in err])\n",
    "auc = np.round(roc_auc_score(y, scores),4)\n",
    "\n",
    "rslt.append({\n",
    "    'model': 'MemStream'\n",
    "    ,'metric': 'AUC'\n",
    "    ,dataset: auc\n",
    "})"
   ]
  },
  {
   "cell_type": "markdown",
   "metadata": {},
   "source": [
    "## PySad Models"
   ]
  },
  {
   "cell_type": "code",
   "execution_count": 14,
   "metadata": {},
   "outputs": [],
   "source": [
    "from pysad.models import ExactStorm\n",
    "from pysad.models import HalfSpaceTrees\n",
    "from pysad.models import IForestASD\n",
    "from pysad.models import RSHash\n",
    "from pysad.models import RobustRandomCutForest\n",
    "from pysad.models import LODA\n",
    "from pysad.models import KitNet\n",
    "\n",
    "from pysad.utils import ArrayStreamer\n",
    "from pysad.evaluation import AUROCMetric"
   ]
  },
  {
   "cell_type": "code",
   "execution_count": 15,
   "metadata": {},
   "outputs": [],
   "source": [
    "def run_pysad_model(X_all, y_all, model):\n",
    "    iterator = ArrayStreamer(shuffle=False)  # Create streamer to simulate streaming data.\n",
    "    auroc = AUROCMetric()  # Tracker of area under receiver-operating- characteristics curve metric.\n",
    "\n",
    "    for X, y in tqdm(iterator.iter(X_all, y_all)):  # Iterate over examples.\n",
    "        scores = []\n",
    "\n",
    "        # Fit & Score.\n",
    "        model.fit_partial(X)\n",
    "        score = model.score_partial(X)\n",
    "        scores.append(score)\n",
    "\n",
    "        if ~np.isnan(score):\n",
    "            auroc.update(y, score)  # update AUROC metric.\n",
    "        \n",
    "    rslt = np.round(auroc.get(),3)\n",
    "\n",
    "    # Output score.\n",
    "    return rslt"
   ]
  },
  {
   "cell_type": "code",
   "execution_count": 16,
   "metadata": {},
   "outputs": [
    {
     "name": "stderr",
     "output_type": "stream",
     "text": [
      "10000it [00:23, 424.45it/s]\n"
     ]
    }
   ],
   "source": [
    "# STORM\n",
    "model = ExactStorm(window_size=10000, max_radius=0.1)\n",
    "auc = run_pysad_model(X_all, y_all, model)\n",
    "\n",
    "rslt.append({\n",
    "    'model': 'ExactStorm'\n",
    "    ,'metric': 'AUC'\n",
    "    ,dataset: auc\n",
    "})"
   ]
  },
  {
   "cell_type": "code",
   "execution_count": 17,
   "metadata": {},
   "outputs": [
    {
     "name": "stderr",
     "output_type": "stream",
     "text": [
      "10000it [01:25, 117.24it/s]\n"
     ]
    }
   ],
   "source": [
    "# HS-Tree\n",
    "model = HalfSpaceTrees(window_size=100, num_trees=25, max_depth=15, initial_window_X=None, feature_mins=np.min(X_all, axis=0), feature_maxes=np.max(X_all, axis=0))\n",
    "auc = run_pysad_model(X_all, y_all, model)\n",
    "\n",
    "rslt.append({\n",
    "    'model': 'HalfSpaceTrees'\n",
    "    ,'metric': 'AUC'\n",
    "    ,dataset: auc\n",
    "})"
   ]
  },
  {
   "cell_type": "code",
   "execution_count": 18,
   "metadata": {},
   "outputs": [
    {
     "name": "stderr",
     "output_type": "stream",
     "text": [
      "10000it [00:47, 209.11it/s]\n"
     ]
    }
   ],
   "source": [
    "# iForestASD\n",
    "model = IForestASD(window_size=100, initial_window_X=None) \n",
    "auc = run_pysad_model(X_all, y_all, model)\n",
    "\n",
    "rslt.append({\n",
    "    'model': 'IForestASD'\n",
    "    ,'metric': 'AUC'\n",
    "    ,dataset: auc\n",
    "})"
   ]
  },
  {
   "cell_type": "code",
   "execution_count": 19,
   "metadata": {},
   "outputs": [
    {
     "name": "stderr",
     "output_type": "stream",
     "text": [
      "10000it [00:47, 210.47it/s]\n"
     ]
    }
   ],
   "source": [
    "# RSHash\n",
    "model = RSHash(sampling_points=1000, decay=0.015, num_components=100, num_hash_fns=1, feature_mins=np.min(X_all, axis=0), feature_maxes=np.max(X_all, axis=0)) \n",
    "auc = run_pysad_model(X_all, y_all, model)\n",
    "\n",
    "rslt.append({\n",
    "    'model': 'RSHash'\n",
    "    ,'metric': 'AUC'\n",
    "    ,dataset: auc\n",
    "})"
   ]
  },
  {
   "cell_type": "code",
   "execution_count": 20,
   "metadata": {},
   "outputs": [
    {
     "name": "stderr",
     "output_type": "stream",
     "text": [
      "10000it [00:26, 371.81it/s]\n"
     ]
    }
   ],
   "source": [
    "# RCF\n",
    "model = RobustRandomCutForest(num_trees=4, shingle_size=4, tree_size=256)\n",
    "auc = run_pysad_model(X_all, y_all, model)\n",
    "\n",
    "rslt.append({\n",
    "    'model': 'RobustRandomCutForest'\n",
    "    ,'metric': 'AUC'\n",
    "    ,dataset: auc\n",
    "})"
   ]
  },
  {
   "cell_type": "code",
   "execution_count": 21,
   "metadata": {},
   "outputs": [
    {
     "name": "stderr",
     "output_type": "stream",
     "text": [
      "10000it [02:09, 77.09it/s]\n"
     ]
    }
   ],
   "source": [
    "# LODA\n",
    "model = LODA(num_bins=10, num_random_cuts=100)\n",
    "auc = run_pysad_model(X_all, y_all, model)\n",
    "\n",
    "rslt.append({\n",
    "    'model': 'LODA'\n",
    "    ,'metric': 'AUC'\n",
    "    ,dataset: auc\n",
    "})"
   ]
  },
  {
   "cell_type": "code",
   "execution_count": 22,
   "metadata": {},
   "outputs": [
    {
     "name": "stderr",
     "output_type": "stream",
     "text": [
      "0it [00:00, ?it/s]c:\\Users\\nmhahn\\anaconda3\\envs\\data_stream\\lib\\site-packages\\pysad\\models\\kitnet_model\\dA.py:119: RuntimeWarning: invalid value encountered in divide\n",
      "  x = (x - self.norm_min) / (self.norm_max - self.norm_min + 0.0000000000000001)\n",
      "1274it [00:00, 12723.57it/s]"
     ]
    },
    {
     "name": "stdout",
     "output_type": "stream",
     "text": [
      "Feature-Mapper: train-mode, Anomaly-Detector: off-mode\n",
      "The Feature-Mapper found a mapping: 10 features to 1 autoencoders.\n",
      "Feature-Mapper: execute-mode, Anomaly-Detector: train-mode\n"
     ]
    },
    {
     "name": "stderr",
     "output_type": "stream",
     "text": [
      "3378it [00:00, 6900.77it/s] "
     ]
    },
    {
     "name": "stdout",
     "output_type": "stream",
     "text": [
      "Feature-Mapper: execute-mode, Anomaly-Detector: exeute-mode\n"
     ]
    },
    {
     "name": "stderr",
     "output_type": "stream",
     "text": [
      "10000it [00:01, 7215.98it/s]\n"
     ]
    }
   ],
   "source": [
    "# Kitsune\n",
    "model = KitNet(max_size_ae=10, learning_rate=0.1, hidden_ratio=0.75, grace_feature_mapping=np.round(0.1*len(y_all)), grace_anomaly_detector=np.round(0.1*len(y_all)))\n",
    "\n",
    "try:\n",
    "    auc = run_pysad_model(X_all, y_all, model)\n",
    "except:\n",
    "    auc = None\n",
    "\n",
    "rslt.append({\n",
    "    'model': 'Kitsune'\n",
    "    ,'metric': 'AUC'\n",
    "    ,dataset: auc\n",
    "})"
   ]
  },
  {
   "cell_type": "markdown",
   "metadata": {},
   "source": [
    "# Results"
   ]
  },
  {
   "cell_type": "code",
   "execution_count": 23,
   "metadata": {},
   "outputs": [
    {
     "data": {
      "text/html": [
       "<div>\n",
       "<style scoped>\n",
       "    .dataframe tbody tr th:only-of-type {\n",
       "        vertical-align: middle;\n",
       "    }\n",
       "\n",
       "    .dataframe tbody tr th {\n",
       "        vertical-align: top;\n",
       "    }\n",
       "\n",
       "    .dataframe thead th {\n",
       "        text-align: right;\n",
       "    }\n",
       "</style>\n",
       "<table border=\"1\" class=\"dataframe\">\n",
       "  <thead>\n",
       "    <tr style=\"text-align: right;\">\n",
       "      <th></th>\n",
       "      <th>model</th>\n",
       "      <th>metric</th>\n",
       "      <th>cover</th>\n",
       "    </tr>\n",
       "  </thead>\n",
       "  <tbody>\n",
       "    <tr>\n",
       "      <th>0</th>\n",
       "      <td>MemStream</td>\n",
       "      <td>AUC</td>\n",
       "      <td>0.970</td>\n",
       "    </tr>\n",
       "    <tr>\n",
       "      <th>1</th>\n",
       "      <td>ExactStorm</td>\n",
       "      <td>AUC</td>\n",
       "      <td>0.500</td>\n",
       "    </tr>\n",
       "    <tr>\n",
       "      <th>2</th>\n",
       "      <td>HalfSpaceTrees</td>\n",
       "      <td>AUC</td>\n",
       "      <td>0.745</td>\n",
       "    </tr>\n",
       "    <tr>\n",
       "      <th>3</th>\n",
       "      <td>IForestASD</td>\n",
       "      <td>AUC</td>\n",
       "      <td>0.848</td>\n",
       "    </tr>\n",
       "    <tr>\n",
       "      <th>4</th>\n",
       "      <td>RSHash</td>\n",
       "      <td>AUC</td>\n",
       "      <td>0.384</td>\n",
       "    </tr>\n",
       "    <tr>\n",
       "      <th>5</th>\n",
       "      <td>RobustRandomCutForest</td>\n",
       "      <td>AUC</td>\n",
       "      <td>0.787</td>\n",
       "    </tr>\n",
       "    <tr>\n",
       "      <th>6</th>\n",
       "      <td>LODA</td>\n",
       "      <td>AUC</td>\n",
       "      <td>0.500</td>\n",
       "    </tr>\n",
       "    <tr>\n",
       "      <th>7</th>\n",
       "      <td>Kitsune</td>\n",
       "      <td>AUC</td>\n",
       "      <td>0.701</td>\n",
       "    </tr>\n",
       "  </tbody>\n",
       "</table>\n",
       "</div>"
      ],
      "text/plain": [
       "                   model metric  cover\n",
       "0              MemStream    AUC  0.970\n",
       "1             ExactStorm    AUC  0.500\n",
       "2         HalfSpaceTrees    AUC  0.745\n",
       "3             IForestASD    AUC  0.848\n",
       "4                 RSHash    AUC  0.384\n",
       "5  RobustRandomCutForest    AUC  0.787\n",
       "6                   LODA    AUC  0.500\n",
       "7                Kitsune    AUC  0.701"
      ]
     },
     "execution_count": 23,
     "metadata": {},
     "output_type": "execute_result"
    }
   ],
   "source": [
    "rslt_df = pd.DataFrame(rslt)\n",
    "rslt_df[dataset] = np.round(rslt_df[dataset], 3)\n",
    "rslt_df"
   ]
  }
 ],
 "metadata": {
  "kernelspec": {
   "display_name": "data_stream",
   "language": "python",
   "name": "python3"
  },
  "language_info": {
   "codemirror_mode": {
    "name": "ipython",
    "version": 3
   },
   "file_extension": ".py",
   "mimetype": "text/x-python",
   "name": "python",
   "nbconvert_exporter": "python",
   "pygments_lexer": "ipython3",
   "version": "3.8.0"
  }
 },
 "nbformat": 4,
 "nbformat_minor": 2
}
