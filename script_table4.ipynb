{
 "cells": [
  {
   "cell_type": "markdown",
   "metadata": {},
   "source": [
    "# Libraries"
   ]
  },
  {
   "cell_type": "code",
   "execution_count": 34,
   "metadata": {},
   "outputs": [],
   "source": [
    "# Libraries\n",
    "import numpy as np\n",
    "import pandas as pd\n",
    "from tqdm import tqdm\n",
    "\n",
    "import torch\n",
    "\n",
    "import scipy.io\n",
    "\n",
    "from sklearn.model_selection import train_test_split\n",
    "\n",
    "SEED = 0\n",
    "\n",
    "torch.manual_seed(SEED)\n",
    "np.random.seed(SEED)"
   ]
  },
  {
   "cell_type": "markdown",
   "metadata": {},
   "source": [
    "# Datasets"
   ]
  },
  {
   "cell_type": "code",
   "execution_count": 35,
   "metadata": {},
   "outputs": [],
   "source": [
    "def get_data(dataset):\n",
    "    if dataset == 'NSL':\n",
    "        df = pd.read_table('./data/nsl.txt', delimiter = ',', header = None)\n",
    "        df['y'] = np.loadtxt('./data/nsllabel.txt', delimiter=',')\n",
    "        return df\n",
    "\n",
    "    return None"
   ]
  },
  {
   "cell_type": "code",
   "execution_count": 36,
   "metadata": {},
   "outputs": [],
   "source": [
    "dataset = 'NSL' \n",
    "df = get_data(dataset)"
   ]
  },
  {
   "cell_type": "code",
   "execution_count": 37,
   "metadata": {},
   "outputs": [
    {
     "name": "stdout",
     "output_type": "stream",
     "text": [
      "(125973, 127)\n",
      "\n",
      "y\n",
      "0.0    0.534583\n",
      "1.0    0.465417\n",
      "Name: count, dtype: float64\n"
     ]
    }
   ],
   "source": [
    "print(df.shape)\n",
    "print()\n",
    "print(df['y'].value_counts()/len(df))"
   ]
  },
  {
   "cell_type": "code",
   "execution_count": 38,
   "metadata": {},
   "outputs": [],
   "source": [
    "def preprocess(df):\n",
    "    X = df.drop(columns=['y']).to_numpy().reshape(-1,df.shape[1]-1)\n",
    "    y = df['y'].to_numpy()\n",
    "    return X, y\n",
    "\n",
    "X_all, y_all = preprocess(df) "
   ]
  },
  {
   "cell_type": "markdown",
   "metadata": {},
   "source": [
    "# Models"
   ]
  },
  {
   "cell_type": "code",
   "execution_count": 39,
   "metadata": {},
   "outputs": [],
   "source": [
    "rslt = []"
   ]
  },
  {
   "cell_type": "markdown",
   "metadata": {},
   "source": [
    "## MemStream"
   ]
  },
  {
   "cell_type": "code",
   "execution_count": 40,
   "metadata": {},
   "outputs": [],
   "source": [
    "import torch.nn as nn\n",
    "import numpy as np\n",
    "from torch.utils.data import DataLoader\n",
    "from sklearn.metrics import roc_auc_score\n",
    "from torch.autograd import Variable"
   ]
  },
  {
   "cell_type": "code",
   "execution_count": 41,
   "metadata": {},
   "outputs": [],
   "source": [
    "device = torch.device('cpu')"
   ]
  },
  {
   "cell_type": "code",
   "execution_count": 42,
   "metadata": {},
   "outputs": [],
   "source": [
    "# from https://github.com/Stream-AD/MemStream?tab=readme-ov-file\n",
    "# file: memstream.py\n",
    "class MemStream(nn.Module):\n",
    "    def __init__(self, in_dim, params):\n",
    "        super(MemStream, self).__init__()\n",
    "        self.params = params\n",
    "        self.in_dim = in_dim\n",
    "        self.out_dim = in_dim*2\n",
    "        self.memory_len = params['memory_len']\n",
    "        self.max_thres = torch.tensor(params['beta']).to(device)\n",
    "        self.memory = torch.randn(self.memory_len, self.out_dim).to(device)\n",
    "        self.mem_data = torch.randn(self.memory_len, self.in_dim).to(device)\n",
    "        self.memory.requires_grad = False\n",
    "        self.mem_data.requires_grad = False\n",
    "        self.batch_size = params['memory_len']\n",
    "        self.num_mem_update = 0\n",
    "        self.encoder = nn.Sequential(\n",
    "            nn.Linear(self.in_dim, self.out_dim),\n",
    "            nn.Tanh(),\n",
    "        ).to(device)\n",
    "        self.decoder = nn.Sequential(\n",
    "            nn.Linear(self.out_dim, self.in_dim)\n",
    "        ).to(device)\n",
    "        self.clock = 0\n",
    "        self.last_update = -1\n",
    "        self.optimizer = torch.optim.Adam(self.parameters(), lr=params['lr'])\n",
    "        self.loss_fn = nn.MSELoss()\n",
    "        self.count = 0\n",
    "\n",
    "\n",
    "    def train_autoencoder(self, data, epochs):\n",
    "        self.mean, self.std = self.mem_data.mean(0), self.mem_data.std(0)\n",
    "        new = (data - self.mean) / self.std\n",
    "        new[:, self.std == 0] = 0\n",
    "        new = Variable(new)\n",
    "        for epoch in range(epochs):\n",
    "            self.optimizer.zero_grad()\n",
    "            output = self.decoder(self.encoder(new + 0.001*torch.randn_like(new).to(device)))\n",
    "            loss = self.loss_fn(output, new)\n",
    "            loss.backward()\n",
    "            self.optimizer.step()\n",
    "\n",
    "\n",
    "    def update_memory(self, output_loss, encoder_output, data):\n",
    "        if output_loss <= self.max_thres:\n",
    "            least_used_pos = self.count%self.memory_len\n",
    "            self.memory[least_used_pos] = encoder_output\n",
    "            self.mem_data[least_used_pos] = data\n",
    "            self.mean, self.std = self.mem_data.mean(0), self.mem_data.std(0)\n",
    "            self.count += 1\n",
    "            return 1\n",
    "        return 0\n",
    "\n",
    "    def initialize_memory(self, x):\n",
    "        mean, std = model.mem_data.mean(0), model.mem_data.std(0)\n",
    "        new = (x - mean) / std\n",
    "        new[:, std == 0] = 0\n",
    "        self.memory = self.encoder(new)\n",
    "        self.memory.requires_grad = False\n",
    "        self.mem_data = x\n",
    "\n",
    "    def forward(self, x):\n",
    "        new = (x - self.mean) / self.std\n",
    "        new[:, self.std == 0] = 0\n",
    "        encoder_output = self.encoder(new)\n",
    "        loss_values = torch.norm(self.memory - encoder_output, dim=1, p=1).min()\n",
    "        self.update_memory(loss_values, encoder_output, x)\n",
    "        return loss_values"
   ]
  },
  {
   "cell_type": "code",
   "execution_count": 43,
   "metadata": {},
   "outputs": [],
   "source": [
    "X = torch.FloatTensor(X_all)\n",
    "y = y_all\n",
    "\n",
    "\n",
    "epochs = 5000\n",
    "lr = 1e-2"
   ]
  },
  {
   "cell_type": "code",
   "execution_count": 44,
   "metadata": {},
   "outputs": [
    {
     "name": "stderr",
     "output_type": "stream",
     "text": [
      "100%|██████████| 12/12 [1:00:12<00:00, 301.02s/it]\n"
     ]
    }
   ],
   "source": [
    "for k in tqdm([3,4,5,6,7,8,9,10,11,12,13,14]):\n",
    "\n",
    "    memlen = 2**k\n",
    "\n",
    "    params = {\n",
    "        'beta': 0.1\n",
    "        ,'memory_len': memlen # N\n",
    "        ,'batch_size': 1,\n",
    "        'lr': lr\n",
    "    }\n",
    "\n",
    "    model = MemStream(X[0].shape[0], params).to(device)\n",
    "    model.max_thres=model.max_thres.float()\n",
    "    batch_size = params['batch_size']\n",
    "\n",
    "\n",
    "    data_loader = DataLoader(X, batch_size=batch_size)\n",
    "    init_data = X[y == 0][:memlen].to(device)\n",
    "    model.mem_data = init_data\n",
    "    torch.set_grad_enabled(True)\n",
    "    model.train_autoencoder(Variable(init_data).to(device), epochs=epochs)\n",
    "    torch.set_grad_enabled(False)\n",
    "    model.initialize_memory(Variable(init_data[:memlen]))\n",
    "\n",
    "    err = []\n",
    "    for data in data_loader:\n",
    "        output = model(data.to(device))\n",
    "        err.append(output)\n",
    "\n",
    "\n",
    "    scores = np.array([i.cpu() for i in err])\n",
    "    auc = np.round(roc_auc_score(y, scores),4)\n",
    "\n",
    "    rslt.append({\n",
    "        'memlen': 2**k\n",
    "        ,'metric': 'AUC'\n",
    "        ,dataset: auc\n",
    "    })"
   ]
  },
  {
   "cell_type": "markdown",
   "metadata": {},
   "source": [
    "# Results"
   ]
  },
  {
   "cell_type": "code",
   "execution_count": 45,
   "metadata": {},
   "outputs": [
    {
     "data": {
      "text/html": [
       "<div>\n",
       "<style scoped>\n",
       "    .dataframe tbody tr th:only-of-type {\n",
       "        vertical-align: middle;\n",
       "    }\n",
       "\n",
       "    .dataframe tbody tr th {\n",
       "        vertical-align: top;\n",
       "    }\n",
       "\n",
       "    .dataframe thead th {\n",
       "        text-align: right;\n",
       "    }\n",
       "</style>\n",
       "<table border=\"1\" class=\"dataframe\">\n",
       "  <thead>\n",
       "    <tr style=\"text-align: right;\">\n",
       "      <th></th>\n",
       "      <th>memlen</th>\n",
       "      <th>metric</th>\n",
       "      <th>NSL</th>\n",
       "    </tr>\n",
       "  </thead>\n",
       "  <tbody>\n",
       "    <tr>\n",
       "      <th>0</th>\n",
       "      <td>8</td>\n",
       "      <td>AUC</td>\n",
       "      <td>0.920</td>\n",
       "    </tr>\n",
       "    <tr>\n",
       "      <th>1</th>\n",
       "      <td>16</td>\n",
       "      <td>AUC</td>\n",
       "      <td>0.653</td>\n",
       "    </tr>\n",
       "    <tr>\n",
       "      <th>2</th>\n",
       "      <td>32</td>\n",
       "      <td>AUC</td>\n",
       "      <td>0.603</td>\n",
       "    </tr>\n",
       "    <tr>\n",
       "      <th>3</th>\n",
       "      <td>64</td>\n",
       "      <td>AUC</td>\n",
       "      <td>0.889</td>\n",
       "    </tr>\n",
       "    <tr>\n",
       "      <th>4</th>\n",
       "      <td>128</td>\n",
       "      <td>AUC</td>\n",
       "      <td>0.934</td>\n",
       "    </tr>\n",
       "    <tr>\n",
       "      <th>5</th>\n",
       "      <td>256</td>\n",
       "      <td>AUC</td>\n",
       "      <td>0.934</td>\n",
       "    </tr>\n",
       "    <tr>\n",
       "      <th>6</th>\n",
       "      <td>512</td>\n",
       "      <td>AUC</td>\n",
       "      <td>0.955</td>\n",
       "    </tr>\n",
       "    <tr>\n",
       "      <th>7</th>\n",
       "      <td>1024</td>\n",
       "      <td>AUC</td>\n",
       "      <td>0.972</td>\n",
       "    </tr>\n",
       "    <tr>\n",
       "      <th>8</th>\n",
       "      <td>2048</td>\n",
       "      <td>AUC</td>\n",
       "      <td>0.978</td>\n",
       "    </tr>\n",
       "    <tr>\n",
       "      <th>9</th>\n",
       "      <td>4096</td>\n",
       "      <td>AUC</td>\n",
       "      <td>0.986</td>\n",
       "    </tr>\n",
       "    <tr>\n",
       "      <th>10</th>\n",
       "      <td>8192</td>\n",
       "      <td>AUC</td>\n",
       "      <td>0.987</td>\n",
       "    </tr>\n",
       "    <tr>\n",
       "      <th>11</th>\n",
       "      <td>16384</td>\n",
       "      <td>AUC</td>\n",
       "      <td>0.991</td>\n",
       "    </tr>\n",
       "  </tbody>\n",
       "</table>\n",
       "</div>"
      ],
      "text/plain": [
       "    memlen metric    NSL\n",
       "0        8    AUC  0.920\n",
       "1       16    AUC  0.653\n",
       "2       32    AUC  0.603\n",
       "3       64    AUC  0.889\n",
       "4      128    AUC  0.934\n",
       "5      256    AUC  0.934\n",
       "6      512    AUC  0.955\n",
       "7     1024    AUC  0.972\n",
       "8     2048    AUC  0.978\n",
       "9     4096    AUC  0.986\n",
       "10    8192    AUC  0.987\n",
       "11   16384    AUC  0.991"
      ]
     },
     "execution_count": 45,
     "metadata": {},
     "output_type": "execute_result"
    }
   ],
   "source": [
    "rslt_df = pd.DataFrame(rslt)\n",
    "rslt_df[dataset] = np.round(rslt_df[dataset], 3)\n",
    "rslt_df"
   ]
  }
 ],
 "metadata": {
  "kernelspec": {
   "display_name": "data_stream",
   "language": "python",
   "name": "python3"
  },
  "language_info": {
   "codemirror_mode": {
    "name": "ipython",
    "version": 3
   },
   "file_extension": ".py",
   "mimetype": "text/x-python",
   "name": "python",
   "nbconvert_exporter": "python",
   "pygments_lexer": "ipython3",
   "version": "3.8.0"
  }
 },
 "nbformat": 4,
 "nbformat_minor": 2
}
